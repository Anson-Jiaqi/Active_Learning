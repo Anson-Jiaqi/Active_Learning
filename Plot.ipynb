{
 "cells": [
  {
   "cell_type": "code",
   "execution_count": null,
   "id": "a6187c77-ca6c-41a3-85cf-510d5409a620",
   "metadata": {},
   "outputs": [],
   "source": [
    "# Load necessary libraries\n",
    "library(ggplot2)\n",
    "library(reshape2)\n",
    "\n",
    "# Read the CSV file\n",
    "data <- read.csv(\"average_scores_onehot.csv\")\n",
    "\n",
    "# Create a sequence for the x-axis (assuming rows are sequential)\n",
    "data$x <- seq(1, nrow(data))\n",
    "\n",
    "# Melt the data frame to long format for ggplot2\n",
    "data_long <- melt(data, id.vars = \"x\", variable.name = \"Method\", value.name = \"Score\")\n",
    "\n",
    "# Plot each column in a single plot\n",
    "p <- ggplot(data_long, aes(x = x, y = Score, color = Method)) +\n",
    "  geom_point() +  # Add points\n",
    "  geom_smooth(method = \"loess\", se = TRUE) +  # Add smooth curve with standard error\n",
    "  labs(title = \"AUC Curves with Standard Errors\", x = \"Iteration\", y = \"AUC Score\") +\n",
    "  theme_minimal() +\n",
    "  ylim(0.55, 0.8) +\n",
    "  theme(\n",
    "    plot.title = element_text(size = 25),       # Title size\n",
    "    axis.title.x = element_text(size = 20),    # X-axis title size\n",
    "    axis.title.y = element_text(size = 20),    # Y-axis title size\n",
    "    axis.text.x = element_text(size = 17),     # X-axis text size\n",
    "    axis.text.y = element_text(size = 17),     # Y-axis text size\n",
    "    legend.text = element_text(size = 17),     # Legend text size\n",
    "    legend.title = element_text(size = 19)     # Legend title size\n",
    "  )\n",
    "\n",
    "# Display the plot\n",
    "print(p)"
   ]
  }
 ],
 "metadata": {
  "kernelspec": {
   "display_name": "Python 3 (ipykernel)",
   "language": "python",
   "name": "python3"
  },
  "language_info": {
   "codemirror_mode": {
    "name": "ipython",
    "version": 3
   },
   "file_extension": ".py",
   "mimetype": "text/x-python",
   "name": "python",
   "nbconvert_exporter": "python",
   "pygments_lexer": "ipython3",
   "version": "3.11.9"
  }
 },
 "nbformat": 4,
 "nbformat_minor": 5
}
